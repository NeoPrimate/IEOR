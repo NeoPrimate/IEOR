{
 "cells": [
  {
   "cell_type": "code",
   "execution_count": 1,
   "metadata": {},
   "outputs": [
    {
     "ename": "ModuleNotFoundError",
     "evalue": "No module named 'numpy'",
     "output_type": "error",
     "traceback": [
      "\u001b[0;31m---------------------------------------------------------------------------\u001b[0m",
      "\u001b[0;31mModuleNotFoundError\u001b[0m                       Traceback (most recent call last)",
      "Cell \u001b[0;32mIn[1], line 1\u001b[0m\n\u001b[0;32m----> 1\u001b[0m \u001b[38;5;28;01mimport\u001b[39;00m\u001b[38;5;250m \u001b[39m\u001b[38;5;21;01mnumpy\u001b[39;00m\u001b[38;5;250m \u001b[39m\u001b[38;5;28;01mas\u001b[39;00m\u001b[38;5;250m \u001b[39m\u001b[38;5;21;01mnp\u001b[39;00m\n\u001b[1;32m      2\u001b[0m \u001b[38;5;28;01mimport\u001b[39;00m\u001b[38;5;250m \u001b[39m\u001b[38;5;21;01mmatplotlib\u001b[39;00m\u001b[38;5;21;01m.\u001b[39;00m\u001b[38;5;21;01mpyplot\u001b[39;00m\u001b[38;5;250m \u001b[39m\u001b[38;5;28;01mas\u001b[39;00m\u001b[38;5;250m \u001b[39m\u001b[38;5;21;01mplt\u001b[39;00m\n",
      "\u001b[0;31mModuleNotFoundError\u001b[0m: No module named 'numpy'"
     ]
    }
   ],
   "source": [
    "import numpy as np\n",
    "import matplotlib.pyplot as plt"
   ]
  },
  {
   "cell_type": "code",
   "execution_count": null,
   "metadata": {},
   "outputs": [
    {
     "ename": "",
     "evalue": "",
     "output_type": "error",
     "traceback": [
      "\u001b[1;31mRunning cells with 'Python 3.12.5' requires the ipykernel package.\n",
      "\u001b[1;31mRun the following command to install 'ipykernel' into the Python environment. \n",
      "\u001b[1;31mCommand: '/opt/homebrew/bin/python3 -m pip install ipykernel -U --user --force-reinstall'"
     ]
    }
   ],
   "source": [
    "# Define the function and its derivative\n",
    "def f(x):\n",
    "    return x**3 + x\n",
    "\n",
    "def df(x):\n",
    "    return 3*x**2 + 1\n",
    "\n",
    "# Define the inverse derivative\n",
    "def df_inv(y, x):\n",
    "    return 1 / df(x)\n",
    "\n",
    "# Generate x values for plotting f(x)\n",
    "x_vals = np.linspace(-3, 3, 400)\n",
    "y_vals = f(x_vals)\n",
    "\n",
    "# Compute the inverse function numerically for visualization\n",
    "y_inv_vals = np.linspace(-10, 10, 400)\n",
    "x_inv_vals = np.sign(y_inv_vals) * np.cbrt(abs(y_inv_vals - np.sign(y_inv_vals)))  # Approximate x = f^(-1)(y)\n",
    "\n",
    "# Tangent line at x = 2 for f(x)\n",
    "x_tangent = 2\n",
    "y_tangent = f(x_tangent)\n",
    "slope_f = df(x_tangent)\n",
    "tangent_f = y_tangent + slope_f * (x_vals - x_tangent)\n",
    "\n",
    "# Tangent line at y = 10 for f^(-1)(y)\n",
    "y_tangent_inv = 10\n",
    "x_tangent_inv = x_tangent  # Since f(2) = 10, then f^(-1)(10) = 2\n",
    "slope_inv = df_inv(y_tangent_inv, x_tangent_inv)\n",
    "tangent_inv = x_tangent_inv + slope_inv * (y_inv_vals - y_tangent_inv)\n",
    "\n",
    "# Plot\n",
    "plt.figure(figsize=(8, 6))\n",
    "\n",
    "# Plot f(x) and its tangent\n",
    "plt.plot(x_vals, y_vals, label=r\"$f(x) = x^3 + x$\", color='black')\n",
    "plt.plot(x_vals, tangent_f, '--', label=\"Tangent at (2, 10)\", color='red')\n",
    "\n",
    "# Plot f^(-1)(y) and its tangent\n",
    "plt.plot(x_inv_vals, y_inv_vals, label=r\"$f^{-1}(y)$ (approx)\", color='blue')\n",
    "plt.plot(tangent_inv, y_inv_vals, '--', label=\"Tangent at (10,2)\", color='green')\n",
    "\n",
    "# Highlight points\n",
    "plt.scatter([x_tangent], [y_tangent], color='red', zorder=3, label=\"(2, 10) on f(x)\")\n",
    "plt.scatter([x_tangent_inv], [y_tangent_inv], color='green', zorder=3, label=\"(10, 2) on f⁻¹(y)\")\n",
    "\n",
    "# Labels and legend\n",
    "plt.xlabel(\"x\")\n",
    "plt.ylabel(\"y\")\n",
    "plt.axhline(0, color='gray', linewidth=0.5)\n",
    "plt.axvline(0, color='gray', linewidth=0.5)\n",
    "plt.legend()\n",
    "plt.title(\"Derivatives of Inverse Functions\")\n",
    "\n",
    "plt.show()\n"
   ]
  },
  {
   "cell_type": "code",
   "execution_count": null,
   "metadata": {},
   "outputs": [],
   "source": []
  },
  {
   "cell_type": "code",
   "execution_count": null,
   "metadata": {},
   "outputs": [],
   "source": []
  }
 ],
 "metadata": {
  "kernelspec": {
   "display_name": "venv",
   "language": "python",
   "name": "python3"
  },
  "language_info": {
   "name": "python",
   "version": "3.12.5"
  }
 },
 "nbformat": 4,
 "nbformat_minor": 2
}
